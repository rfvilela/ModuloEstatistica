{
 "cells": [
  {
   "cell_type": "markdown",
   "id": "d40fdc15-821b-480a-b261-d0709ea65750",
   "metadata": {},
   "source": [
    "# Estatística Prática com Python  \n",
    "\n",
    "## 1. Introdução à Amostragem  \n",
    "\n",
    "### 📌 Conceito\n",
    "\n",
    "Amostragem é o processo de selecionar uma parte representativa de uma população para análise estatística. Em vez de analisar todos os elementos (o que pode ser caro ou inviável), escolhemos uma **amostra** para tirar conclusões sobre o todo.\n",
    "\n",
    "<br>\n",
    "\n",
    "<img src= \"https://solvis.com.br/wp-content/uploads/2021/02/imagem-para-blog-calculadora-de-amostragem-quantas-respostas-precisa-ter-na-pesquisa-solvis-e1613076591189.png\" width=500>\n",
    "\n",
    "Fonte [Solvis](https://solvis.com.br/wp-content/uploads/2021/02/imagem-para-blog-calculadora-de-amostragem-quantas-respostas-precisa-ter-na-pesquisa-solvis-e1613076591189.png)\n",
    "\n",
    "<br>\n",
    "\n",
    "\n",
    "- **População ($N$):** conjunto completo de indivíduos, elementos ou eventos.  \n",
    "- **Amostra ($n$):** subconjunto extraído da população.  \n",
    "\n",
    "Esse processo deve preservar a **representatividade** da população.\n",
    "\n",
    "> Exemplo: um banco deseja estimar a média de saldo dos clientes. Em vez de analisar todos os correntistas (população), seleciona 1.000 clientes (amostra) de forma aleatória.\n",
    "\n",
    "### Importancia da amostragem\n",
    "<br>\n",
    "\n",
    "![](https://encrypted-tbn0.gstatic.com/images?q=tbn:ANd9GcQqOdLxM1gMRp_8wTfxYigAIyA0fen1oS8lmA&s)\n",
    "\n",
    "<br><br>\n",
    "### Terminologia sobre Amostragem\n",
    "\n",
    "<br>\n",
    "\n",
    "Será necessário definir algumas terminologias normalmente utilizadas quando se fala a respeito de amostragem. Este parâmetros estão descritos a seguir:\n",
    "\n",
    "- **População**: ou Universo é o conjunto de todas as unidades elementares de interesse. A população deve ser definida claramente e em termos da informação que se pretende conhecer;\n",
    "\n",
    "<br>\n",
    "\n",
    "- **Unidade**: trata-se de qualquer elemento da população;\n",
    "\n",
    "<br>\n",
    "\n",
    "- **Amostra**: uma parte ou subconjunto da população;\n",
    "\n",
    "<br>\n",
    "\n",
    "- **Censo**:  observação de todos os elementos da população;\n",
    "\n",
    "<br>\n",
    "\n",
    "- **Parâmetro Populacional**: é o vetor correspondente a todos os valores de uma variável de interesse. Pode ser qualitativa (gosto musical, opnião sobre o governo, etc) ou quantitativa (média, proporção, quantidade, etc).\n",
    "\n",
    "<br>\n",
    "\n",
    "- **Função Paramétrica Populacional**:  é uma característica numérica da população, ou seja, uma expressão numérica que condensa os valores do vetor de parâmetro populacional. Por exemplo, média, total, proporção, dentre outros.\n",
    "\n",
    "<br>\n",
    "\n"
   ]
  },
  {
   "cell_type": "markdown",
   "id": "4578863d-ddb1-47a7-ab86-0a8d8bcb4229",
   "metadata": {},
   "source": [
    "### 🧪 Lab"
   ]
  },
  {
   "cell_type": "code",
   "execution_count": 2,
   "id": "49cb5e76-e473-44cb-a1c4-f76ab931d053",
   "metadata": {},
   "outputs": [
    {
     "name": "stdout",
     "output_type": "stream",
     "text": [
      "[1, 2, 3, 4, 5, 6, 7, 8, 9, 10, 11, 12, 13, 14, 15, 16, 17, 18, 19, 20, 21, 22, 23, 24, 25, 26, 27, 28, 29, 30, 31, 32, 33, 34, 35, 36, 37, 38, 39, 40, 41, 42, 43, 44, 45, 46, 47, 48, 49, 50, 51, 52, 53, 54, 55, 56, 57, 58, 59, 60, 61, 62, 63, 64, 65, 66, 67, 68, 69, 70, 71, 72, 73, 74, 75, 76, 77, 78, 79, 80, 81, 82, 83, 84, 85, 86, 87, 88, 89, 90, 91, 92, 93, 94, 95, 96, 97, 98, 99, 100]\n"
     ]
    }
   ],
   "source": [
    "from random import sample\n",
    "\n",
    "\n",
    "alunos = list(range(1,101))\n",
    "print(alunos)\n",
    "\n"
   ]
  },
  {
   "cell_type": "code",
   "execution_count": 3,
   "id": "0ae1fd88",
   "metadata": {},
   "outputs": [
    {
     "data": {
      "text/plain": [
       "(1000000,)"
      ]
     },
     "execution_count": 3,
     "metadata": {},
     "output_type": "execute_result"
    }
   ],
   "source": [
    "import numpy as np\n",
    "\n",
    "np.random.seed(42)\n",
    "populacao = np.random.uniform(0, 100_000,1_000_000)\n",
    "populacao.shape"
   ]
  },
  {
   "cell_type": "code",
   "execution_count": 4,
   "id": "b2efde03",
   "metadata": {},
   "outputs": [
    {
     "data": {
      "text/plain": [
       "(np.float64(99999.83148609544), np.float64(0.05188445665327279))"
      ]
     },
     "execution_count": 4,
     "metadata": {},
     "output_type": "execute_result"
    }
   ],
   "source": [
    "max(populacao), min(populacao)"
   ]
  },
  {
   "cell_type": "code",
   "execution_count": 6,
   "id": "6f7f425c",
   "metadata": {},
   "outputs": [
    {
     "name": "stdout",
     "output_type": "stream",
     "text": [
      "Média da população:50033.45\n",
      "Média da amostra:46220.53\n"
     ]
    }
   ],
   "source": [
    "amostra = np.random.choice(populacao, size=100, replace=False)\n",
    "print(f\"Média da população:{populacao.mean():.2f}\")\n",
    "print(f\"Média da amostra:{amostra.mean():.2f}\")"
   ]
  },
  {
   "cell_type": "markdown",
   "id": "feae7af4-0343-478e-bfd1-87b9d3a62481",
   "metadata": {},
   "source": [
    "### Tipos de Amostragem\n",
    "\n",
    "<br>\n",
    "\n",
    "Sobre a amostragem, pode-se classicá-la em dois tipos a respeito sobre as probabilidade destas amostra:\n",
    "\n",
    "<br>\n",
    "\n",
    "- **Amostra Probabilística**: todos os elementos da população apresentam probabilidade maior que zero de serem selecionados;\n",
    "\n",
    "<br>\n",
    "\n",
    "- **Amostra Não-Probabilística**: quando não há probabilidade clara/conhecida de seleção dos elementos. Os elementos são escolhidos de forma julgamental;\n",
    "\n",
    "<br><br>\n"
   ]
  },
  {
   "cell_type": "markdown",
   "id": "a4086d75-5233-4732-8ba4-8e33dae4a8cb",
   "metadata": {},
   "source": [
    "---\n",
    "## 2. Técnicas de Amostragem  \n",
    "\n",
    "### 2.1 🎯 Amostragem Aleatória Simples\n",
    "\n",
    "**Conceito:**  \n",
    "Cada elemento da população tem a **mesma chance** de ser escolhido. É a forma mais básica e intuitiva de amostragem.\n",
    "\n",
    "> Aplicável quando temos uma lista completa da população ou podemos sortear de forma justa.\n",
    "\n",
    "#### 🧪 Lab – Psicologia (pesquisa de estresse)"
   ]
  },
  {
   "cell_type": "code",
   "execution_count": 8,
   "id": "d2055542-98d6-49f5-afe9-e920feb98a26",
   "metadata": {},
   "outputs": [
    {
     "name": "stdout",
     "output_type": "stream",
     "text": [
      "[64.81249138 24.56893119 12.11588224 65.59240306 39.89973103 67.14388194\n",
      " 63.89938726 46.08633802 54.64270139 56.56971072 78.39445096 65.09630576\n",
      " 71.02844965 37.19301382 42.8566851  51.5166252  43.09517432 66.73766571\n",
      " 37.61456252 49.81060806 80.91480071 44.9243505  72.09349146 63.33732938\n",
      " 42.70391294 28.1534081  54.48267235 45.20443585 37.15698823 57.48888377\n",
      " 57.26719635 40.21583308 23.65327062 45.51231361 25.41082501 73.84253594\n",
      " 42.62736467 56.18356671 11.18245257 37.96992054 82.23640363 47.14322958\n",
      " 69.37510717 56.88816596 72.10436665 46.88462648 66.63875353 54.89409484\n",
      " 16.54113763 46.98202098 69.44272765 41.16010206 37.48189049 67.54679446\n",
      " 29.9778472  53.87519531 45.60149839 19.6703083  35.56496037 37.6489474\n",
      " 49.57068591 53.21365832 70.61611893 55.19941848 61.34951067 54.38698103\n",
      " 51.33979729  5.71154804 23.23913439 24.03823277 60.78338687 67.33132918\n",
      " 56.04926488 37.11834488 45.16439206 96.33898347 36.30714048 52.47694375\n",
      " 47.54116811 43.95381717 51.65400664 65.26668996 47.03714826 44.46200586\n",
      " 62.50463904 45.18047788 57.63051211 58.40707924 25.38025406 51.19455263\n",
      " 31.67469834 53.94871028 54.05527171 61.36030545 58.62622574 54.77162616\n",
      " 35.88550568 76.2469626  40.80056511 53.75127635]\n"
     ]
    }
   ],
   "source": [
    "pop = np.random.normal(loc=50,scale=15, size=1_000_000)\n",
    "\n",
    "\n",
    "amostra = np.random.choice(pop, size=100, replace=False)\n",
    "\n",
    "\n",
    "\n",
    "print(amostra)"
   ]
  },
  {
   "cell_type": "markdown",
   "id": "5f2a7c62-a15c-4eb7-a2f9-b7e7ec1ee758",
   "metadata": {},
   "source": [
    "### 2.2 Amostragem Estratificada  \n",
    "\n",
    "**Conceito:**  \n",
    "A população é dividida em **estratos homogêneos** (ex: sexo, idade, faixa de renda), e amostras são selecionadas **proporcionalmente** de cada estrato.\n",
    "\n",
    "> Garante que todos os grupos relevantes sejam representados.\n",
    "\n",
    "Procedimento de amostragem:\n",
    "\n",
    "- Dividir as $N$ unidades da população em $N_1, N_2, \\cdots , N_j$ estratos distintos e homogêneos;\n",
    "\n",
    "- Selecionar, ao acaso, uma amostra de tamanhos $n_1, n_2, \\cdots , n_j$ , de modo que o tamanho da amostra seja $n = n_1+n_2+ \\cdots +n_j$. O tamanho amostral pode ser proporcional à representatividade do estrato.\n",
    "\n",
    "<br>\n",
    "\n",
    "<img src= \"https://viacarreira.com/wp-content/uploads/2020/11/amostra-de-pesquisa-2.png\" width = 500>\n",
    "\n",
    "Fonte: [Via Carreira](https://viacarreira.com/wp-content/uploads/2020/11/amostra-de-pesquisa-2.pn)\n",
    "\n",
    "<br>"
   ]
  },
  {
   "cell_type": "markdown",
   "id": "924ab163-2638-4f33-a0c7-dcec7c0a9001",
   "metadata": {},
   "source": [
    "### 🧪 Exemplo prático – Saúde (pacientes por faixa etária)"
   ]
  },
  {
   "cell_type": "code",
   "execution_count": 11,
   "id": "a17ef728",
   "metadata": {},
   "outputs": [],
   "source": [
    "import numpy as np\n",
    "import pandas as pd\n",
    "\n",
    "\n",
    "np.random.seed(10)\n",
    "faixas = ['<30','30-60','60+']\n",
    "tamanhos = [3000,5000,2000]\n",
    "\n",
    "\n",
    "pressao = [\n",
    "    np.random.normal(loc=110, scale=10, size=tamanhos[0]),\n",
    "    np.random.normal(loc=125, scale=10, size=tamanhos[1]),\n",
    "    np.random.normal(loc=140, scale=10, size=tamanhos[2])\n",
    "\n",
    "]"
   ]
  },
  {
   "cell_type": "code",
   "execution_count": null,
   "id": "82883de8",
   "metadata": {},
   "outputs": [],
   "source": [
    "faixas"
   ]
  },
  {
   "cell_type": "code",
   "execution_count": null,
   "id": "f132de61-8804-4684-a0f0-4a6150c5c6d7",
   "metadata": {},
   "outputs": [],
   "source": [
    "pressao[0].shape, pressao[1].shape, pressao[2].shape   "
   ]
  },
  {
   "cell_type": "code",
   "execution_count": 12,
   "id": "50e8cba8",
   "metadata": {},
   "outputs": [
    {
     "data": {
      "text/plain": [
       "array(['<30', '<30', '<30', ..., '60+', '60+', '60+'],\n",
       "      shape=(10000,), dtype='<U5')"
      ]
     },
     "execution_count": 12,
     "metadata": {},
     "output_type": "execute_result"
    }
   ],
   "source": [
    "faixa_etaria = np.concatenate([\n",
    "    [faixa] * tamanho for faixa, tamanho in zip(faixas,tamanhos)\n",
    "\n",
    "])\n",
    "\n",
    "faixa_etaria"
   ]
  },
  {
   "cell_type": "code",
   "execution_count": 13,
   "id": "6cbffd20",
   "metadata": {},
   "outputs": [
    {
     "data": {
      "text/plain": [
       "array([123.31586504, 117.15278974,  94.54599708, ..., 146.47377813,\n",
       "       152.50739219, 151.629442  ], shape=(10000,))"
      ]
     },
     "execution_count": 13,
     "metadata": {},
     "output_type": "execute_result"
    }
   ],
   "source": [
    "pressao_total = np.concatenate(pressao)\n",
    "pressao_total"
   ]
  },
  {
   "cell_type": "code",
   "execution_count": 14,
   "id": "052b42a3",
   "metadata": {},
   "outputs": [],
   "source": [
    "df = pd.DataFrame({\n",
    "\n",
    "    'faixa_etaria': faixa_etaria,\n",
    "    'pressao_arterial': pressao_total       \n",
    "})"
   ]
  },
  {
   "cell_type": "markdown",
   "id": "d43979eb-c0db-4c14-81e5-d98298775e2a",
   "metadata": {},
   "source": [
    "### 2.3 🔁 Amostragem Sistemática  \n",
    "\n",
    "**Conceito:**  \n",
    "Seleciona-se o primeiro elemento aleatoriamente e os próximos em intervalos fixos $k$ (ex: a cada 10 elementos).\n",
    "\n",
    "Fórmula do intervalo:\n",
    "\n",
    "$$\n",
    "k = \\frac{N}{n}\n",
    "$$\n",
    "\n",
    "> Útil para bases ordenadas: registros médicos, contas bancárias, etc.\n",
    "\n",
    "\n",
    "### 🧪 Lab"
   ]
  },
  {
   "cell_type": "code",
   "execution_count": null,
   "id": "f223caa6-f459-42af-b267-edc9ea1373d0",
   "metadata": {},
   "outputs": [],
   "source": []
  },
  {
   "cell_type": "markdown",
   "id": "e26456d5-7c81-496e-9b92-e6377027b89e",
   "metadata": {},
   "source": [
    "### 2.4 🏢 Amostragem por Conglomerado  \n",
    "\n",
    "**O que é?**  \n",
    "Ao invés de sortear indivíduos, sorteamos **grupos inteiros** chamados de **conglomerados** (ex: agências bancárias, escolas, bairros, hospitais).\n",
    "\n",
    "Depois de escolher os conglomerados, **todos os elementos dentro deles são incluídos na amostra**.\n",
    "\n",
    "**Quando usar?**  \n",
    "- Quando é difícil acessar a população individualmente.  \n",
    "- Quando os dados já estão agrupados (ex: registros por agência).  \n",
    "- Quando o custo para visitar todos os indivíduos é alto.\n",
    "\n",
    "**Vantagens:**  \n",
    "- Mais prático e barato.  \n",
    "- Útil quando os dados estão naturalmente agrupados.\n",
    "\n",
    "**Desvantagens:**  \n",
    "- Pode não ser tão representativo quanto a amostragem estratificada.  \n",
    "- Grupos muito homogêneos podem enviesar os resultados.\n",
    "\n",
    "\n",
    "#### 🧪 Lab – Pesquisa em clínicas médicas"
   ]
  },
  {
   "cell_type": "code",
   "execution_count": null,
   "id": "41cb72c2-d333-4c7d-a983-9793f1fff434",
   "metadata": {},
   "outputs": [],
   "source": []
  },
  {
   "cell_type": "markdown",
   "id": "19e663be-8c01-4370-bb37-266109f40661",
   "metadata": {},
   "source": [
    "### 3 ⚠️ Viés de Seleção  \n",
    "\n",
    "Viés acontece quando a amostra **não reflete bem a população**. Pode surgir por:\n",
    "\n",
    "- Critério de escolha enviesado  \n",
    "- Falta de grupos importantes  \n",
    "- Erros de coleta  \n",
    "\n",
    "> Exemplo: pesquisar apenas usuários de internet exclui idosos que não usam tecnologia.\n",
    "\n",
    "\n",
    "#### 3.1 📐 Ferramentas úteis para avaliação  \n",
    "\n",
    "- `seaborn.boxplot()` – compara distribuições  \n",
    "- `scipy.stats.ttest_ind()` – compara médias  \n",
    "- `scipy.stats.ks_2samp()` – compara distribuições (teste de Kolmogorov-Smirnov)  "
   ]
  },
  {
   "cell_type": "code",
   "execution_count": null,
   "id": "516265de-530e-4ed0-843f-f1cd6f3d5cd8",
   "metadata": {},
   "outputs": [],
   "source": []
  }
 ],
 "metadata": {
  "kernelspec": {
   "display_name": "Python 3",
   "language": "python",
   "name": "python3"
  },
  "language_info": {
   "codemirror_mode": {
    "name": "ipython",
    "version": 3
   },
   "file_extension": ".py",
   "mimetype": "text/x-python",
   "name": "python",
   "nbconvert_exporter": "python",
   "pygments_lexer": "ipython3",
   "version": "3.12.10"
  }
 },
 "nbformat": 4,
 "nbformat_minor": 5
}
