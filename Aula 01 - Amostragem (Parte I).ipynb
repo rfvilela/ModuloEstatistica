{
 "cells": [
  {
   "cell_type": "markdown",
   "id": "d40fdc15-821b-480a-b261-d0709ea65750",
   "metadata": {},
   "source": [
    "# Estatística Prática com Python  \n",
    "\n",
    "## 1. Introdução à Amostragem  \n",
    "\n",
    "### 📌 Conceito\n",
    "\n",
    "Amostragem é o processo de selecionar uma parte representativa de uma população para análise estatística. Em vez de analisar todos os elementos (o que pode ser caro ou inviável), escolhemos uma **amostra** para tirar conclusões sobre o todo.\n",
    "\n",
    "<br>\n",
    "\n",
    "<img src= \"https://solvis.com.br/wp-content/uploads/2021/02/imagem-para-blog-calculadora-de-amostragem-quantas-respostas-precisa-ter-na-pesquisa-solvis-e1613076591189.png\" width=500>\n",
    "\n",
    "Fonte [Solvis](https://solvis.com.br/wp-content/uploads/2021/02/imagem-para-blog-calculadora-de-amostragem-quantas-respostas-precisa-ter-na-pesquisa-solvis-e1613076591189.png)\n",
    "\n",
    "<br>\n",
    "\n",
    "\n",
    "- **População ($N$):** conjunto completo de indivíduos, elementos ou eventos.  \n",
    "- **Amostra ($n$):** subconjunto extraído da população.  \n",
    "\n",
    "Esse processo deve preservar a **representatividade** da população.\n",
    "\n",
    "> Exemplo: um banco deseja estimar a média de saldo dos clientes. Em vez de analisar todos os correntistas (população), seleciona 1.000 clientes (amostra) de forma aleatória.\n",
    "\n",
    "### Importancia da amostragem\n",
    "<br>\n",
    "\n",
    "![](https://encrypted-tbn0.gstatic.com/images?q=tbn:ANd9GcQqOdLxM1gMRp_8wTfxYigAIyA0fen1oS8lmA&s)\n",
    "\n",
    "<br><br>\n",
    "### Terminologia sobre Amostragem\n",
    "\n",
    "<br>\n",
    "\n",
    "Será necessário definir algumas terminologias normalmente utilizadas quando se fala a respeito de amostragem. Este parâmetros estão descritos a seguir:\n",
    "\n",
    "- **População**: ou Universo é o conjunto de todas as unidades elementares de interesse. A população deve ser definida claramente e em termos da informação que se pretende conhecer;\n",
    "\n",
    "<br>\n",
    "\n",
    "- **Unidade**: trata-se de qualquer elemento da população;\n",
    "\n",
    "<br>\n",
    "\n",
    "- **Amostra**: uma parte ou subconjunto da população;\n",
    "\n",
    "<br>\n",
    "\n",
    "- **Censo**:  observação de todos os elementos da população;\n",
    "\n",
    "<br>\n",
    "\n",
    "- **Parâmetro Populacional**: é o vetor correspondente a todos os valores de uma variável de interesse. Pode ser qualitativa (gosto musical, opnião sobre o governo, etc) ou quantitativa (média, proporção, quantidade, etc).\n",
    "\n",
    "<br>\n",
    "\n",
    "- **Função Paramétrica Populacional**:  é uma característica numérica da população, ou seja, uma expressão numérica que condensa os valores do vetor de parâmetro populacional. Por exemplo, média, total, proporção, dentre outros.\n",
    "\n",
    "<br>\n",
    "\n"
   ]
  },
  {
   "cell_type": "markdown",
   "id": "4578863d-ddb1-47a7-ab86-0a8d8bcb4229",
   "metadata": {},
   "source": [
    "### 🧪 Lab"
   ]
  },
  {
   "cell_type": "code",
   "execution_count": null,
   "id": "49cb5e76-e473-44cb-a1c4-f76ab931d053",
   "metadata": {},
   "outputs": [],
   "source": []
  },
  {
   "cell_type": "markdown",
   "id": "feae7af4-0343-478e-bfd1-87b9d3a62481",
   "metadata": {},
   "source": [
    "### Tipos de Amostragem\n",
    "\n",
    "<br>\n",
    "\n",
    "Sobre a amostragem, pode-se classicá-la em dois tipos a respeito sobre as probabilidade destas amostra:\n",
    "\n",
    "<br>\n",
    "\n",
    "- **Amostra Probabilística**: todos os elementos da população apresentam probabilidade maior que zero de serem selecionados;\n",
    "\n",
    "<br>\n",
    "\n",
    "- **Amostra Não-Probabilística**: quando não há probabilidade clara/conhecida de seleção dos elementos. Os elementos são escolhidos de forma julgamental;\n",
    "\n",
    "<br><br>\n"
   ]
  },
  {
   "cell_type": "markdown",
   "id": "a4086d75-5233-4732-8ba4-8e33dae4a8cb",
   "metadata": {},
   "source": [
    "---\n",
    "## 2. Técnicas de Amostragem  \n",
    "\n",
    "### 2.1 🎯 Amostragem Aleatória Simples\n",
    "\n",
    "**Conceito:**  \n",
    "Cada elemento da população tem a **mesma chance** de ser escolhido. É a forma mais básica e intuitiva de amostragem.\n",
    "\n",
    "> Aplicável quando temos uma lista completa da população ou podemos sortear de forma justa.\n",
    "\n",
    "#### 🧪 Lab – Psicologia (pesquisa de estresse)"
   ]
  },
  {
   "cell_type": "code",
   "execution_count": null,
   "id": "d2055542-98d6-49f5-afe9-e920feb98a26",
   "metadata": {},
   "outputs": [],
   "source": []
  },
  {
   "cell_type": "markdown",
   "id": "5f2a7c62-a15c-4eb7-a2f9-b7e7ec1ee758",
   "metadata": {},
   "source": [
    "### 2.2 Amostragem Estratificada  \n",
    "\n",
    "**Conceito:**  \n",
    "A população é dividida em **estratos homogêneos** (ex: sexo, idade, faixa de renda), e amostras são selecionadas **proporcionalmente** de cada estrato.\n",
    "\n",
    "> Garante que todos os grupos relevantes sejam representados.\n",
    "\n",
    "Procedimento de amostragem:\n",
    "\n",
    "- Dividir as $N$ unidades da população em $N_1, N_2, \\cdots , N_j$ estratos distintos e homogêneos;\n",
    "\n",
    "- Selecionar, ao acaso, uma amostra de tamanhos $n_1, n_2, \\cdots , n_j$ , de modo que o tamanho da amostra seja $n = n_1+n_2+ \\cdots +n_j$. O tamanho amostral pode ser proporcional à representatividade do estrato.\n",
    "\n",
    "<br>\n",
    "\n",
    "<img src= \"https://viacarreira.com/wp-content/uploads/2020/11/amostra-de-pesquisa-2.png\" width = 500>\n",
    "\n",
    "Fonte: [Via Carreira](https://viacarreira.com/wp-content/uploads/2020/11/amostra-de-pesquisa-2.pn)\n",
    "\n",
    "<br>"
   ]
  },
  {
   "cell_type": "markdown",
   "id": "924ab163-2638-4f33-a0c7-dcec7c0a9001",
   "metadata": {},
   "source": [
    "### 🧪 Exemplo prático – Saúde (pacientes por faixa etária)"
   ]
  },
  {
   "cell_type": "code",
   "execution_count": null,
   "id": "f132de61-8804-4684-a0f0-4a6150c5c6d7",
   "metadata": {},
   "outputs": [],
   "source": []
  },
  {
   "cell_type": "markdown",
   "id": "d43979eb-c0db-4c14-81e5-d98298775e2a",
   "metadata": {},
   "source": [
    "### 2.3 🔁 Amostragem Sistemática  \n",
    "\n",
    "**Conceito:**  \n",
    "Seleciona-se o primeiro elemento aleatoriamente e os próximos em intervalos fixos $k$ (ex: a cada 10 elementos).\n",
    "\n",
    "Fórmula do intervalo:\n",
    "\n",
    "$$\n",
    "k = \\frac{N}{n}\n",
    "$$\n",
    "\n",
    "> Útil para bases ordenadas: registros médicos, contas bancárias, etc.\n",
    "\n",
    "\n",
    "### 🧪 Lab"
   ]
  },
  {
   "cell_type": "code",
   "execution_count": null,
   "id": "f223caa6-f459-42af-b267-edc9ea1373d0",
   "metadata": {},
   "outputs": [],
   "source": []
  },
  {
   "cell_type": "markdown",
   "id": "e26456d5-7c81-496e-9b92-e6377027b89e",
   "metadata": {},
   "source": [
    "### 2.4 🏢 Amostragem por Conglomerado  \n",
    "\n",
    "**O que é?**  \n",
    "Ao invés de sortear indivíduos, sorteamos **grupos inteiros** chamados de **conglomerados** (ex: agências bancárias, escolas, bairros, hospitais).\n",
    "\n",
    "Depois de escolher os conglomerados, **todos os elementos dentro deles são incluídos na amostra**.\n",
    "\n",
    "**Quando usar?**  \n",
    "- Quando é difícil acessar a população individualmente.  \n",
    "- Quando os dados já estão agrupados (ex: registros por agência).  \n",
    "- Quando o custo para visitar todos os indivíduos é alto.\n",
    "\n",
    "**Vantagens:**  \n",
    "- Mais prático e barato.  \n",
    "- Útil quando os dados estão naturalmente agrupados.\n",
    "\n",
    "**Desvantagens:**  \n",
    "- Pode não ser tão representativo quanto a amostragem estratificada.  \n",
    "- Grupos muito homogêneos podem enviesar os resultados.\n",
    "\n",
    "\n",
    "#### 🧪 Lab – Pesquisa em clínicas médicas"
   ]
  },
  {
   "cell_type": "code",
   "execution_count": null,
   "id": "41cb72c2-d333-4c7d-a983-9793f1fff434",
   "metadata": {},
   "outputs": [],
   "source": []
  },
  {
   "cell_type": "markdown",
   "id": "19e663be-8c01-4370-bb37-266109f40661",
   "metadata": {},
   "source": [
    "### 3 ⚠️ Viés de Seleção  \n",
    "\n",
    "Viés acontece quando a amostra **não reflete bem a população**. Pode surgir por:\n",
    "\n",
    "- Critério de escolha enviesado  \n",
    "- Falta de grupos importantes  \n",
    "- Erros de coleta  \n",
    "\n",
    "> Exemplo: pesquisar apenas usuários de internet exclui idosos que não usam tecnologia.\n",
    "\n",
    "\n",
    "#### 3.1 📐 Ferramentas úteis para avaliação  \n",
    "\n",
    "- `seaborn.boxplot()` – compara distribuições  \n",
    "- `scipy.stats.ttest_ind()` – compara médias  \n",
    "- `scipy.stats.ks_2samp()` – compara distribuições (teste de Kolmogorov-Smirnov)  "
   ]
  },
  {
   "cell_type": "code",
   "execution_count": null,
   "id": "516265de-530e-4ed0-843f-f1cd6f3d5cd8",
   "metadata": {},
   "outputs": [],
   "source": []
  }
 ],
 "metadata": {
  "kernelspec": {
   "display_name": "Python [conda env:.conda-machine]",
   "language": "python",
   "name": "conda-env-.conda-machine-py"
  },
  "language_info": {
   "codemirror_mode": {
    "name": "ipython",
    "version": 3
   },
   "file_extension": ".py",
   "mimetype": "text/x-python",
   "name": "python",
   "nbconvert_exporter": "python",
   "pygments_lexer": "ipython3",
   "version": "3.12.7"
  }
 },
 "nbformat": 4,
 "nbformat_minor": 5
}
