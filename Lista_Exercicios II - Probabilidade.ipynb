{
 "cells": [
  {
   "cell_type": "markdown",
   "id": "f1b568e9",
   "metadata": {},
   "source": [
    "# 📘 Lista de Exercícios - Probabilidade"
   ]
  },
  {
   "cell_type": "markdown",
   "id": "06b873c1",
   "metadata": {},
   "source": [
    "### Exercício 1\n",
    "Um banco observou que 40% dos clientes que solicitam empréstimo pessoal têm crédito aprovado. Simule 1000 solicitações e estime a frequência relativa de aprovações."
   ]
  },
  {
   "cell_type": "code",
   "execution_count": 2,
   "id": "7efbf6cb-7b5a-41a1-a2cb-7416089b3bbd",
   "metadata": {},
   "outputs": [
    {
     "name": "stdout",
     "output_type": "stream",
     "text": [
      "Número de aprovações: 424\n",
      "Frequência relativa de aprovações: 0.4240\n"
     ]
    }
   ],
   "source": [
    "import numpy as np\n",
    "\n",
    "p = 0.4\n",
    "n = 1000\n",
    "\n",
    "simulacao = np.random.binomial(1, p, n)\n",
    "freq_rel = simulacao.sum() / n\n",
    "\n",
    "print(f\"Número de aprovações: {simulacao.sum()}\")\n",
    "print(f\"Frequência relativa de aprovações: {freq_rel:.4f}\")\n"
   ]
  },
  {
   "cell_type": "markdown",
   "id": "7a2b57bd",
   "metadata": {},
   "source": [
    "### Exercício 2\n",
    "A chance de um cliente pagar a fatura do cartão em dia é de 0.85. Simule 500 pagamentos e estime a frequência relativa de atrasos."
   ]
  },
  {
   "cell_type": "code",
   "execution_count": null,
   "id": "c1c2793a-c39e-45c5-bc34-5b12562fcb31",
   "metadata": {},
   "outputs": [
    {
     "name": "stdout",
     "output_type": "stream",
     "text": [
      "Número de atrasos: 70\n",
      "Frequência relativa de atrasos: 0.1400\n"
     ]
    }
   ],
   "source": [
    "\n",
    "p_pagar_dia = 0.85\n",
    "p_atraso = 1 - p_pagar_dia\n",
    "\n",
    "\n",
    "n = 500\n",
    "\n",
    "\n",
    "simulacao = np.random.binomial(1, p_pagar_dia, n)\n",
    "qtd_atrasos = (simulacao == 0).sum()\n",
    "freq_rel_atrasos = qtd_atrasos / n\n",
    "\n",
    "print(f\"Número de atrasos: {qtd_atrasos}\")\n",
    "print(f\"Frequência relativa de atrasos: {freq_rel_atrasos:.4f}\")\n"
   ]
  },
  {
   "cell_type": "markdown",
   "id": "1845948e",
   "metadata": {},
   "source": [
    "### Exercício 3\n",
    "Um banco estima que 5% das transações com cartão são suspeitas de fraude. Simule 10.000 transações e estime a quantidade de transações suspeitas."
   ]
  },
  {
   "cell_type": "code",
   "execution_count": null,
   "id": "4ca2ca47-c86c-4d7c-a7ce-e52739957c31",
   "metadata": {},
   "outputs": [],
   "source": [
    "\n",
    "p_fraude = 0.05\n",
    "n = 10000\n",
    "\n",
    "\n",
    "simulacao = np.random.binomial(1, p_fraude, n)\n",
    "qtd_suspeitas = simulacao.sum()\n",
    "\n",
    "print(f\"Quantidade de transações suspeitas: {qtd_suspeitas}\")\n",
    "print(f\"Frequência relativa de suspeitas: {qtd_suspeitas/n:.4f}\")\n"
   ]
  },
  {
   "cell_type": "markdown",
   "id": "029f8a3d",
   "metadata": {},
   "source": [
    "### Exercício 4\n",
    "Um cliente possui 3 cartões de crédito. A chance de cada cartão atrasar a fatura é 0.1, independentemente dos outros. Simule 1000 clientes e estime a probabilidade de:\n",
    "- a) Nenhum atraso\n",
    "- b) Exatamente 1 atraso\n",
    "- c) Pelo menos 2 atrasos"
   ]
  },
  {
   "cell_type": "code",
   "execution_count": null,
   "id": "f80479af-e3f7-458c-af19-f8662a8abeb9",
   "metadata": {},
   "outputs": [],
   "source": [
    "\n",
    "p_atraso = 0.1\n",
    "n_clientes = 1000\n",
    "\n",
    "simulacao = np.random.binomial(3, p_atraso, n_clientes)\n",
    "p0 = np.mean(simulacao == 0)\n",
    "p1 = np.mean(simulacao == 1)\n",
    "p2mais = np.mean(simulacao >= 2)\n",
    "\n",
    "print(f\"a) Nenhum atraso: {p0:.4f}\")\n",
    "print(f\"b) Exatamente 1 atraso: {p1:.4f}\")\n",
    "print(f\"c) Pelo menos 2 atrasos: {p2mais:.4f}\")\n"
   ]
  },
  {
   "cell_type": "markdown",
   "id": "1b2cad4a",
   "metadata": {},
   "source": [
    "### Exercício 5\n",
    "Em média, 30% dos pedidos de aumento de limite de crédito são aprovados. Simule 200 pedidos e estime a frequência relativa de aprovações."
   ]
  },
  {
   "cell_type": "code",
   "execution_count": null,
   "id": "3a097f0e-070c-4860-8bf1-5ab496925621",
   "metadata": {},
   "outputs": [],
   "source": [
    "\n",
    "p_aprov = 0.3\n",
    "n = 200\n",
    "\n",
    "simulacao = np.random.binomial(1, p_aprov, n)\n",
    "qtd_aprov = simulacao.sum()\n",
    "freq_rel = qtd_aprov / n\n",
    "\n",
    "print(f\"Número de aprovações: {qtd_aprov}\")\n",
    "print(f\"Frequência relativa de aprovações: {freq_rel:.4f}\")\n"
   ]
  },
  {
   "cell_type": "markdown",
   "id": "781ef077",
   "metadata": {},
   "source": [
    "### Exercício 6\n",
    "A chance de um saque em caixa eletrônico ser superior a RS 500 é de 0.2. Simule 1000 saques e estime a frequência relativa de saques acima de R$500."
   ]
  },
  {
   "cell_type": "code",
   "execution_count": null,
   "id": "cea40449-5034-4d66-8a03-9081784fd7ca",
   "metadata": {},
   "outputs": [],
   "source": [
    "\n",
    "p_maior500 = 0.2\n",
    "n = 1000\n",
    "\n",
    "simulacao = np.random.binomial(1, p_maior500, n)\n",
    "qtd_maior500 = simulacao.sum()\n",
    "freq_rel = qtd_maior500 / n\n",
    "\n",
    "print(f\"Número de saques > R$500: {qtd_maior500}\")\n",
    "print(f\"Frequência relativa: {freq_rel:.4f}\")\n"
   ]
  },
  {
   "cell_type": "markdown",
   "id": "11d5d863",
   "metadata": {},
   "source": [
    "### Exercício 7\n",
    "Um banco estima que 15% dos clientes entram em overdraft (cheque especial) em um determinado mês. Simule 500 clientes e estime a quantidade de clientes que ficaram no vermelho."
   ]
  },
  {
   "cell_type": "code",
   "execution_count": null,
   "id": "13c4b2ae-81b4-4972-8684-5ece4a3296fe",
   "metadata": {},
   "outputs": [],
   "source": [
    "\n",
    "p = 0.15\n",
    "n = 500\n",
    "\n",
    "\n",
    "simulacao = np.random.binomial(1, p, n)\n",
    "qtd = simulacao.sum()\n",
    "freq_rel = qtd / n\n",
    "\n",
    "print(f\"Quantidade de clientes no vermelho: {qtd}\")\n",
    "print(f\"Frequência relativa: {freq_rel:.4f}\")\n"
   ]
  },
  {
   "cell_type": "markdown",
   "id": "1e56c68c",
   "metadata": {},
   "source": [
    "### Exercício 8\n",
    "O tempo médio de atendimento em uma agência bancária segue distribuição normal com média 15 minutos e desvio padrão 3 minutos. Simule 200 atendimentos e faça um histograma."
   ]
  },
  {
   "cell_type": "code",
   "execution_count": null,
   "id": "e1b82a3c-713a-4d94-9c0d-d07616f3ac5e",
   "metadata": {},
   "outputs": [],
   "source": [
    "\n",
    "p = 0.15\n",
    "n = 500\n",
    "\n",
    "\n",
    "simulacao = np.random.binomial(1, p, n)\n",
    "qtd_vermelho = simulacao.sum()\n",
    "freq_rel = qtd_vermelho / n\n",
    "\n",
    "print(f\"Quantidade de clientes no vermelho: {qtd_vermelho}\")\n",
    "print(f\"Frequência relativa: {freq_rel:.4f}\")\n"
   ]
  },
  {
   "cell_type": "markdown",
   "id": "fc344302",
   "metadata": {},
   "source": [
    "### Exercício 9\n",
    "A probabilidade de um cliente contratar seguro é de 0.25. Simule 1000 clientes e estime a proporção de clientes que contratam seguro."
   ]
  },
  {
   "cell_type": "code",
   "execution_count": null,
   "id": "d3d751b6-e3e5-47c8-b336-cfb748899044",
   "metadata": {},
   "outputs": [],
   "source": [
    "\n",
    "p_seguro = 0.25\n",
    "n = 1000\n",
    "\n",
    "\n",
    "simulacao = np.random.binomial(1, p_seguro, n)\n",
    "qtd_seguro = simulacao.sum()\n",
    "prop = qtd_seguro / n\n",
    "\n",
    "print(f\"Quantidade de clientes que contrataram: {qtd_seguro}\")\n",
    "print(f\"Proporção de clientes que contrataram: {prop:.4f}\")\n"
   ]
  },
  {
   "cell_type": "markdown",
   "id": "75065c5c",
   "metadata": {},
   "source": [
    "### Exercício 10\n",
    "Um cliente solicita 4 empréstimos independentes em diferentes bancos. A probabilidade de aprovação em cada banco é de 0.6. Simule 2000 clientes e estime a probabilidade de:\n",
    "- a) Aprovação em todos os bancos\n",
    "- b) Aprovação em pelo menos 1 banco\n",
    "- c) Exatamente 2 aprovações"
   ]
  },
  {
   "cell_type": "code",
   "execution_count": null,
   "id": "2fb016d6-b87c-47c9-bb41-3d795d0a5d6b",
   "metadata": {},
   "outputs": [],
   "source": [
    "\n",
    "p = 0.6       \n",
    "n_emprestimos = 4\n",
    "n_clientes = 2000\n",
    "\n",
    "\n",
    "sim = np.random.binomial(n_emprestimos, p, n_clientes)\n",
    "\n",
    "\n",
    "prob_todos = np.mean(sim == 4)\n",
    "prob_1_deles = np.mean(sim >= 1)\n",
    "prob_2_deles = np.mean(sim == 2)\n",
    "\n",
    "print(f\"a) Aprovação em todos os bancos (simulada): {prob_todos:.4f}\")\n",
    "print(f\"b) Aprovação em pelo menos 1 banco (simulada): {prob_1_deles:.4f}\")\n",
    "print(f\"c) Exatamente 2 aprovações (simulada): {prob_2_deles:.4f}\")\n"
   ]
  }
 ],
 "metadata": {
  "kernelspec": {
   "display_name": "Python 3",
   "language": "python",
   "name": "python3"
  },
  "language_info": {
   "codemirror_mode": {
    "name": "ipython",
    "version": 3
   },
   "file_extension": ".py",
   "mimetype": "text/x-python",
   "name": "python",
   "nbconvert_exporter": "python",
   "pygments_lexer": "ipython3",
   "version": "3.12.10"
  }
 },
 "nbformat": 4,
 "nbformat_minor": 5
}
